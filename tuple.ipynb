{
 "cells": [
  {
   "cell_type": "code",
   "execution_count": 1,
   "id": "0cc1ca6a-be7f-42fd-928f-e0bf7e60d461",
   "metadata": {},
   "outputs": [],
   "source": [
    "its_raining=True"
   ]
  },
  {
   "cell_type": "code",
   "execution_count": 5,
   "id": "a31e197e-6d10-48dd-bab0-ef37a987b6cc",
   "metadata": {},
   "outputs": [
    {
     "name": "stdout",
     "output_type": "stream",
     "text": [
      "it's not raining,but this runs anyway.\n"
     ]
    }
   ],
   "source": [
    "if its_raining:\n",
    "    its_raining==False\n",
    "    print(\"it's not raining,but this runs anyway.\")"
   ]
  },
  {
   "cell_type": "code",
   "execution_count": 9,
   "id": "7bc3448a-fd84-49be-885f-6d77f55625c3",
   "metadata": {},
   "outputs": [
    {
     "name": "stdout",
     "output_type": "stream",
     "text": [
      "hello!\n"
     ]
    },
    {
     "name": "stdin",
     "output_type": "stream",
     "text": [
      "Enter your password:  Secret\n"
     ]
    },
    {
     "name": "stdout",
     "output_type": "stream",
     "text": [
      "This is correct ,Welcome\n"
     ]
    }
   ],
   "source": [
    "print(\"hello!\")\n",
    "password=input(\"Enter your password: \")\n",
    "\n",
    "if password =='Secret':\n",
    "    print(\"This is correct ,Welcome\")\n",
    "else:\n",
    "    print(\"Access denied\")"
   ]
  },
  {
   "cell_type": "code",
   "execution_count": 19,
   "id": "93c5ed3a-7422-4fb9-8050-c1bc50562c48",
   "metadata": {},
   "outputs": [
    {
     "name": "stdout",
     "output_type": "stream",
     "text": [
      "Hello!\n"
     ]
    },
    {
     "name": "stdin",
     "output_type": "stream",
     "text": [
      "Enter something: Spmething \n"
     ]
    },
    {
     "name": "stdout",
     "output_type": "stream",
     "text": [
      "You entered: Spmething \n"
     ]
    }
   ],
   "source": [
    "print(\"Hello!\")\n",
    "something = input('Enter something:' )\n",
    "print('You entered:', something)"
   ]
  },
  {
   "cell_type": "code",
   "execution_count": 21,
   "id": "03bcc270-07ea-4f03-8324-75590ad75288",
   "metadata": {},
   "outputs": [],
   "source": [
    "our_string = \"Hello World!\"\n"
   ]
  },
  {
   "cell_type": "code",
   "execution_count": 23,
   "id": "bcd07c7f-a7e4-4959-9d42-e5e41e6c4197",
   "metadata": {},
   "outputs": [
    {
     "data": {
      "text/plain": [
       "'orl'"
      ]
     },
     "execution_count": 23,
     "metadata": {},
     "output_type": "execute_result"
    }
   ],
   "source": [
    "our_string[-5:-2]"
   ]
  },
  {
   "cell_type": "code",
   "execution_count": null,
   "id": "62f30388-8d29-40eb-ac3b-0a90db8d748f",
   "metadata": {},
   "outputs": [],
   "source": [
    "#Lists and tuples\n"
   ]
  },
  {
   "cell_type": "code",
   "execution_count": null,
   "id": "5b59cda2-32b2-4a12-becc-f901bec62ff9",
   "metadata": {},
   "outputs": [],
   "source": [
    "#Why should we use lists?"
   ]
  },
  {
   "cell_type": "code",
   "execution_count": 25,
   "id": "5d6894da-9a2f-4aff-8db3-455ea14af2bd",
   "metadata": {},
   "outputs": [
    {
     "name": "stdin",
     "output_type": "stream",
     "text": [
      "Enter your favorite color:  red\n"
     ]
    },
    {
     "name": "stdout",
     "output_type": "stream",
     "text": [
      "That's a great color!\n"
     ]
    }
   ],
   "source": [
    "color1 = 'red'\n",
    "color2 = 'blue'\n",
    "color3 = 'green'\n",
    "color4 = 'yellow'\n",
    "color5 = 'purple'\n",
    "\n",
    "color = input(\"Enter your favorite color: \")\n",
    "if color == color1 or color == color2 or color == color3 or color == color4 or color == color5:\n",
    "    print(\"That's a great color!\")\n",
    "else:\n",
    "    print(\"That's unique, but not on my list!\")\n"
   ]
  },
  {
   "cell_type": "code",
   "execution_count": 27,
   "id": "f977e721-a735-49b5-b246-92980ca0ab8b",
   "metadata": {},
   "outputs": [],
   "source": [
    "# The above code is just fine but disadvantages:"
   ]
  },
  {
   "cell_type": "code",
   "execution_count": 29,
   "id": "de90bb92-6ecf-4b2f-bed7-56ea78e90bc1",
   "metadata": {},
   "outputs": [],
   "source": [
    "# Disadvantages:\n",
    "# Repetition: Each color needs its own variable.\n",
    "# Inefficiency: Long if condition with or is harder to manage.\n",
    "# # Hard to Expand: Adding more colors means creating more variables and expanding the condition.\n",
    "# Error-Prone: Long conditional statements with multiple or checks are harder to read and debug.\n",
    "# Less Flexible: If the list of names grows, this approach becomes impractical."
   ]
  },
  {
   "cell_type": "code",
   "execution_count": null,
   "id": "288ca26e-3aa5-406e-9b7d-4fd739cb206a",
   "metadata": {},
   "outputs": [],
   "source": [
    "#Improved with Tuple "
   ]
  },
  {
   "cell_type": "code",
   "execution_count": 35,
   "id": "6e3a6a85-82d9-46dc-ae13-fd3b1015b1a7",
   "metadata": {},
   "outputs": [
    {
     "name": "stdin",
     "output_type": "stream",
     "text": [
      "Enter your favorite color:  red\n"
     ]
    },
    {
     "name": "stdout",
     "output_type": "stream",
     "text": [
      "That's a great color!\n"
     ]
    }
   ],
   "source": [
    "# Using a tuple to store favorite colors\n",
    "favorite_colors = ('red', 'blue', 'green', 'yellow', 'purple')\n",
    "\n",
    "color = input(\"Enter your favorite color: \")\n",
    "if color in favorite_colors:\n",
    "    print(\"That's a great color!\")\n",
    "else:\n",
    "    print(\"That's unique, but not on my list!\")\n"
   ]
  },
  {
   "cell_type": "code",
   "execution_count": 37,
   "id": "2b4877bb-d1cb-4898-84de-cb20adfc9cc1",
   "metadata": {},
   "outputs": [],
   "source": [
    "# Improvements and Explanation:\n",
    "# Compact and Organized:\n",
    "\n",
    "# All favorite colors are stored in a single tuple favorite_colors, reducing the need for multiple variables.\n",
    "# This makes the code cleaner and more structured.\n",
    "# Ease of Maintenance:\n",
    "\n",
    "# Adding or removing a color is as simple as updating the tuple. For instance:\n",
    "# python\n",
    "# Copy code\n",
    "# favorite_colors = ('red', 'blue', 'green', 'yellow', 'purple', 'pink')  # Adding 'pink'\n",
    "# No need to modify multiple variables or the if condition.\n",
    "# Readability:\n",
    "\n",
    "# if color in favorite_colors is intuitive and concise compared to a lengthy chain of or conditions.\n",
    "# Efficiency:\n",
    "\n",
    "# Tuples are optimized for immutability and require less memory than lists. While this difference may not matter in small programs, it adds up in larger ones.\n",
    "# Error Reduction:\n",
    "\n",
    "# The tuple eliminates the risk of forgetting a variable in the if condition or accidentally mismatching a name. For example, in the non-tuple version:\n",
    "# python\n",
    "# Copy code\n",
    "# if color == color1 or color == color2 or color == color3  # What if color4 is missed?\n",
    "\n"
   ]
  },
  {
   "cell_type": "code",
   "execution_count": 39,
   "id": "e0e2053c-8736-4210-b657-ad055bffc152",
   "metadata": {},
   "outputs": [],
   "source": [
    "# #Keep points \n",
    "# Tuples are immutable, meaning their contents cannot be changed after creation.\n",
    "# This immutability ensures the data remains fixed, which is appropriate for something like \"favorite colors\" that won't change dynamically during program execution."
   ]
  },
  {
   "cell_type": "code",
   "execution_count": 41,
   "id": "0499e58e-253f-43e0-812f-83b9903c3662",
   "metadata": {},
   "outputs": [],
   "source": [
    "# 1. Storing Immutable Data\n",
    "# Tuples are perfect for storing values that should not change, like coordinates, RGB color values, or fixed options."
   ]
  },
  {
   "cell_type": "code",
   "execution_count": 43,
   "id": "4ba71d0d-0723-48d4-a93b-71bc38c66a1a",
   "metadata": {},
   "outputs": [
    {
     "name": "stdout",
     "output_type": "stream",
     "text": [
      "Coordinates: (10.5, 42.8), RGB: (255, 0, 128)\n"
     ]
    }
   ],
   "source": [
    "coordinates = (10.5, 42.8)  # (latitude, longitude)\n",
    "rgb_color = (255, 0, 128)   # RGB values\n",
    "print(f\"Coordinates: {coordinates}, RGB: {rgb_color}\")\n"
   ]
  },
  {
   "cell_type": "code",
   "execution_count": 45,
   "id": "6f90855e-48a3-4ff1-b4f4-ff82f5114dad",
   "metadata": {},
   "outputs": [],
   "source": [
    "# 2. Tuple Unpacking\n",
    "# You can unpack tuple values into individual variables, making assignments concise and readable."
   ]
  },
  {
   "cell_type": "code",
   "execution_count": 49,
   "id": "ae9bbaeb-028a-440c-8f56-7cfd9fcc6da1",
   "metadata": {},
   "outputs": [
    {
     "name": "stdout",
     "output_type": "stream",
     "text": [
      "Name: Chandan, Age: 25, Profession: Engineer\n"
     ]
    }
   ],
   "source": [
    "person = (\"Chandan\", 25, \"Engineer\")\n",
    "name, age, profession = person\n",
    "print(f\"Name: {name}, Age: {age}, Profession: {profession}\")\n"
   ]
  },
  {
   "cell_type": "code",
   "execution_count": 53,
   "id": "8bd956b8-0c4d-4bde-b81e-a0afb777f5c4",
   "metadata": {},
   "outputs": [],
   "source": [
    "# 3. Returning Multiple Values from a Function\n",
    "# Tuples are ideal for returning multiple values."
   ]
  },
  {
   "cell_type": "code",
   "execution_count": 55,
   "id": "d25cac33-ae6e-4f88-b337-0b897a1c02b3",
   "metadata": {},
   "outputs": [
    {
     "name": "stdout",
     "output_type": "stream",
     "text": [
      "Student: Laksh Ram, Score: 85\n"
     ]
    }
   ],
   "source": [
    "def get_student_info():\n",
    "    return (\"Laksh\", \"Ram\", 85)\n",
    "\n",
    "first_name, last_name, score = get_student_info()\n",
    "print(f\"Student: {first_name} {last_name}, Score: {score}\")\n"
   ]
  },
  {
   "cell_type": "code",
   "execution_count": 57,
   "id": "1a093e0e-0e64-4d6e-8739-e56e578a0d66",
   "metadata": {},
   "outputs": [],
   "source": [
    "# 4. Membership Testing\n",
    "# Check if an item exists in a tuple."
   ]
  },
  {
   "cell_type": "code",
   "execution_count": 59,
   "id": "12b5c250-3e7d-44eb-92ee-89344bb363ad",
   "metadata": {},
   "outputs": [
    {
     "name": "stdout",
     "output_type": "stream",
     "text": [
      "Python is in the list of languages!\n"
     ]
    }
   ],
   "source": [
    "languages = (\"Python\", \"JavaScript\", \"C++\")\n",
    "if \"Python\" in languages:\n",
    "    print(\"Python is in the list of languages!\")\n"
   ]
  },
  {
   "cell_type": "code",
   "execution_count": 2,
   "id": "c58c9630-37c2-43e4-b2ad-e2687a0c19b4",
   "metadata": {},
   "outputs": [],
   "source": [
    "# 5. Tuple Concatenation and Repetition\n",
    "# Combine tuples or repeat them.\n"
   ]
  },
  {
   "cell_type": "code",
   "execution_count": 4,
   "id": "f86d3136-a922-4323-b527-dec584bb545e",
   "metadata": {},
   "outputs": [
    {
     "name": "stdout",
     "output_type": "stream",
     "text": [
      "Combined: (1, 2, 3, 4, 5, 6), Repeated: (1, 2, 3, 1, 2, 3, 1, 2, 3)\n"
     ]
    }
   ],
   "source": [
    "tuple1 = (1, 2, 3)\n",
    "tuple2 = (4, 5, 6)\n",
    "combined = tuple1 + tuple2\n",
    "repeated = tuple1 * 3\n",
    "print(f\"Combined: {combined}, Repeated: {repeated}\")\n"
   ]
  },
  {
   "cell_type": "code",
   "execution_count": 6,
   "id": "33f2792d-6f33-4b50-8179-8342ecb6bbe6",
   "metadata": {},
   "outputs": [],
   "source": [
    "# 6. Indexing and Slicing\n",
    "# Access elements by index or slice portions of a tuple."
   ]
  },
  {
   "cell_type": "code",
   "execution_count": 8,
   "id": "a7fd20a1-9451-4cc6-8ab7-f3b81488419b",
   "metadata": {},
   "outputs": [
    {
     "name": "stdout",
     "output_type": "stream",
     "text": [
      "red\n",
      "('green', 'blue')\n"
     ]
    }
   ],
   "source": [
    "colors = (\"red\", \"green\", \"blue\", \"yellow\")\n",
    "print(colors[0])  # First element\n",
    "print(colors[1:3])  # Slice: ('green', 'blue')\n"
   ]
  },
  {
   "cell_type": "code",
   "execution_count": 10,
   "id": "301876cd-a797-468b-9139-f235256a4aa5",
   "metadata": {},
   "outputs": [],
   "source": [
    "# 7. Nested Tuples\n",
    "# Tuples can contain other tuples, allowing for complex data structures."
   ]
  },
  {
   "cell_type": "code",
   "execution_count": 16,
   "id": "732d85c6-83dd-4899-9fc4-23795bd067bb",
   "metadata": {},
   "outputs": [
    {
     "name": "stdout",
     "output_type": "stream",
     "text": [
      "3\n",
      "(5, 6)\n"
     ]
    }
   ],
   "source": [
    "nested_tuple = ((1, 2), (3, 4), (5, 6))\n",
    "print(nested_tuple[1][0])  # Accessing 3\n",
    "print(nested_tuple[2])  # Accessing 3rd elemet"
   ]
  },
  {
   "cell_type": "code",
   "execution_count": 18,
   "id": "20a6b77c-46d1-42a2-8f3e-da6e02aadb82",
   "metadata": {},
   "outputs": [],
   "source": [
    "# 8. Iterating Through a Tuple\n",
    "# Use loops to process tuple elements."
   ]
  },
  {
   "cell_type": "code",
   "execution_count": 20,
   "id": "fab09743-b433-4376-b9e5-f03855de5b49",
   "metadata": {},
   "outputs": [
    {
     "name": "stdout",
     "output_type": "stream",
     "text": [
      "I love apple\n",
      "I love banana\n",
      "I love cherry\n"
     ]
    }
   ],
   "source": [
    "fruits = (\"apple\", \"banana\", \"cherry\")\n",
    "for fruit in fruits:\n",
    "    print(f\"I love {fruit}\")\n"
   ]
  },
  {
   "cell_type": "code",
   "execution_count": null,
   "id": "b47d0c1b-fbdf-4a53-93e8-f77a2addb2c9",
   "metadata": {},
   "outputs": [],
   "source": [
    "# 9. Using Tuples as Keys in Dictionaries\n",
    "# Since tuples are immutable, they can be used as dictionary keys, unlike lists."
   ]
  },
  {
   "cell_type": "code",
   "execution_count": 24,
   "id": "f6987a19-03e0-491e-96be-89f6864cfc27",
   "metadata": {},
   "outputs": [
    {
     "name": "stdout",
     "output_type": "stream",
     "text": [
      "bangalore\n"
     ]
    }
   ],
   "source": [
    "locations = {\n",
    "    (12.971599, 77.594566): \"bangalore\",\n",
    "    (34.0522, -118.2437): \"Los Angeles\"\n",
    "}\n",
    "print(locations[(12.971599, 77.594566)])  # Output: bangalore\n"
   ]
  },
  {
   "cell_type": "code",
   "execution_count": 28,
   "id": "023419df-8c70-46d2-a47a-307192dcd422",
   "metadata": {},
   "outputs": [],
   "source": [
    "# 10. Sorting Tuples\n",
    "# Sort a list of tuples based on a specific index."
   ]
  },
  {
   "cell_type": "code",
   "execution_count": 32,
   "id": "cb0a0f68-cb00-43ed-918f-3346bde2c84a",
   "metadata": {},
   "outputs": [
    {
     "name": "stdout",
     "output_type": "stream",
     "text": [
      "[('Akbhar', 90), ('Amar', 85), ('Anthoni', 80)]\n"
     ]
    }
   ],
   "source": [
    "students = [(\"Amar\", 85), (\"Akbhar\", 90), (\"Anthoni\", 80)]\n",
    "sorted_students = sorted(students, key=lambda x: x[1], reverse=True)\n",
    "print(sorted_students)  # Output: [('Bob', 90), ('Alice', 85), ('Charlie', 80)]\n"
   ]
  },
  {
   "cell_type": "code",
   "execution_count": 34,
   "id": "6ec47e20-aa79-4198-8531-a475eadd31c9",
   "metadata": {},
   "outputs": [],
   "source": [
    "# 11. Tuple Comprehension (via Generator Expression)\n",
    "# Generate tuples dynamically (but note this produces a generator, not an actual tuple)."
   ]
  },
  {
   "cell_type": "code",
   "execution_count": 36,
   "id": "5c718f1d-a1f6-455e-84b7-f2b241a42021",
   "metadata": {},
   "outputs": [
    {
     "name": "stdout",
     "output_type": "stream",
     "text": [
      "(0, 1, 4, 9, 16)\n"
     ]
    }
   ],
   "source": [
    "numbers = tuple(x**2 for x in range(5))\n",
    "print(numbers)  # Output: (0, 1, 4, 9, 16)\n",
    "\n"
   ]
  },
  {
   "cell_type": "code",
   "execution_count": 38,
   "id": "bd980a90-96d6-40dd-a7d0-d83096c98f50",
   "metadata": {},
   "outputs": [],
   "source": [
    "# 12. Count and Index Methods\n",
    "# Find the frequency or position of an element."
   ]
  },
  {
   "cell_type": "code",
   "execution_count": 40,
   "id": "9b3afcd1-a503-4870-acf9-7fbaa58f2ce7",
   "metadata": {},
   "outputs": [
    {
     "name": "stdout",
     "output_type": "stream",
     "text": [
      "3\n",
      "2\n"
     ]
    }
   ],
   "source": [
    "values = (1, 2, 3, 1, 1, 4)\n",
    "print(values.count(1))  # Output: 3 (number of times 1 appears)\n",
    "print(values.index(3))  # Output: 2 (index of first occurrence of 3)\n"
   ]
  },
  {
   "cell_type": "code",
   "execution_count": null,
   "id": "159006fe-8317-4d80-9ad6-c3dfa02daffc",
   "metadata": {},
   "outputs": [],
   "source": [
    "# Summary: When to Use Tuples\n",
    "# Data should remain constant.\n",
    "# Efficiency is a priority (tuples are faster and use less memory than lists).\n",
    "# Fixed-size data is needed (like coordinates or a record with a fixed number of fields).\n"
   ]
  },
  {
   "cell_type": "code",
   "execution_count": 45,
   "id": "5bab9b4f-af21-42dd-aaa0-a4980ffe2645",
   "metadata": {},
   "outputs": [],
   "source": [
    "# Tuple comprehension is a bit of a misnomer because Python does not have an explicit \n",
    "# syntax for tuple comprehensions like it does for lists. However, you can achieve \n",
    "# something similar using generator expressions, which can be converted into a tuple."
   ]
  },
  {
   "cell_type": "code",
   "execution_count": null,
   "id": "47c074ef-94fe-4011-a770-335ea92bdf9b",
   "metadata": {},
   "outputs": [],
   "source": [
    "# Generator Expression:\n",
    "# A generator expression creates an iterator that produces values one at a \n",
    "# time as you iterate over it.It is enclosed in parentheses ( )."
   ]
  },
  {
   "cell_type": "code",
   "execution_count": 51,
   "id": "315fb74c-d986-4d89-a927-53b4862171bc",
   "metadata": {},
   "outputs": [
    {
     "data": {
      "text/plain": [
       "<generator object <genexpr> at 0x14af6f6b0>"
      ]
     },
     "execution_count": 51,
     "metadata": {},
     "output_type": "execute_result"
    }
   ],
   "source": [
    "#Example of a generator expression:\n",
    "\n",
    "(x**2 for x in range(5))\n",
    "\n",
    "# This doesn't create a tuple directly; instead, it creates a generator object that \n",
    "# computes the square of numbers from 0 to 4 lazily (only when accessed).\n",
    "\n",
    "\n"
   ]
  },
  {
   "cell_type": "code",
   "execution_count": 57,
   "id": "7264c049-16ad-4fff-a316-046302d78fcd",
   "metadata": {},
   "outputs": [],
   "source": [
    "# Converting to Tuple:\n",
    "# To create a tuple from a generator expression, pass it to the tuple() constructor. \n",
    "# This creates a tuple by evaluating all the elements in the generator.\n",
    "\n",
    "# Here’s what happens:\n",
    "\n",
    "# x**2 computes the square of x.\n",
    "# for x in range(5) iterates over the numbers 0, 1, 2, 3, 4.\n",
    "# tuple() collects all the computed values into a tuple.\n",
    "\n",
    "# Advantages of Using Generator Expressions:\n",
    "# Memory Efficient: Instead of creating a large temporary list, \n",
    "# it computes elements on the fly.\n",
    "# Readable: Compact syntax for creating tuples."
   ]
  }
 ],
 "metadata": {
  "kernelspec": {
   "display_name": "Python 3 (ipykernel)",
   "language": "python",
   "name": "python3"
  },
  "language_info": {
   "codemirror_mode": {
    "name": "ipython",
    "version": 3
   },
   "file_extension": ".py",
   "mimetype": "text/x-python",
   "name": "python",
   "nbconvert_exporter": "python",
   "pygments_lexer": "ipython3",
   "version": "3.12.7"
  }
 },
 "nbformat": 4,
 "nbformat_minor": 5
}
