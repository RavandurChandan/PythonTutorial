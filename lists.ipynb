{
 "cells": [
  {
   "cell_type": "code",
   "execution_count": 52,
   "id": "4fab2797-945c-495c-a5e9-a5b18ceed446",
   "metadata": {},
   "outputs": [],
   "source": [
    "# Why Should We Use Lists?\n",
    "# Lists are versatile and allow you to:\n",
    "\n",
    "# Store multiple items in a single variable.\n",
    "# Access, modify, and iterate through elements easily.\n",
    "# Handle dynamic data since their size can grow or shrink as needed.\n",
    "# Perform complex operations like sorting, filtering, and aggregations efficiently.\n",
    "\n",
    " "
   ]
  },
  {
   "cell_type": "code",
   "execution_count": 54,
   "id": "f3f256c1-ddd3-47a0-be33-c806cbbfa2bb",
   "metadata": {},
   "outputs": [],
   "source": [
    "# Example Without Using a List\n",
    "# Imagine you're collecting daily sales figures for a week.\n",
    "# Without a list, you might do something like this:\n"
   ]
  },
  {
   "cell_type": "code",
   "execution_count": 56,
   "id": "97280dfb-42bd-445c-9da3-8a4e4b6a4f56",
   "metadata": {},
   "outputs": [
    {
     "name": "stdout",
     "output_type": "stream",
     "text": [
      "Total Sales: 1250\n"
     ]
    }
   ],
   "source": [
    "day1 = 100\n",
    "day2 = 200\n",
    "day3 = 150\n",
    "day4 = 180\n",
    "day5 = 210\n",
    "day6 = 190\n",
    "day7 = 220\n",
    "\n",
    "# Calculate total sales\n",
    "total_sales = day1 + day2 + day3 + day4 + day5 + day6 + day7\n",
    "print(\"Total Sales:\", total_sales)\n"
   ]
  },
  {
   "cell_type": "code",
   "execution_count": 58,
   "id": "07716ded-6616-4358-9af1-617862bc65de",
   "metadata": {},
   "outputs": [],
   "source": [
    "# Limitations:\n",
    "\n",
    "# Adding a new day requires creating another variable (day8).\n",
    "# Summing sales is repetitive and hard to manage for many variables.\n",
    "# You can't perform operations like finding the average or sorting the sales values easily.\n"
   ]
  },
  {
   "cell_type": "code",
   "execution_count": 60,
   "id": "2d63d28c-08ed-434f-bfbf-80c504e3e971",
   "metadata": {},
   "outputs": [],
   "source": [
    "# Example Using a List\n",
    "# Using a list simplifies this significantly:"
   ]
  },
  {
   "cell_type": "code",
   "execution_count": 62,
   "id": "abb67893-44ae-4ab7-9ac4-84e53db4b031",
   "metadata": {},
   "outputs": [
    {
     "name": "stdout",
     "output_type": "stream",
     "text": [
      "Total Sales: 1250\n",
      "Average Sales: 178.57142857142858\n",
      "Highest Sales: 220\n"
     ]
    }
   ],
   "source": [
    "sales = [100, 200, 150, 180, 210, 190, 220]\n",
    "\n",
    "# Calculate total sales\n",
    "total_sales = sum(sales)\n",
    "print(\"Total Sales:\", total_sales)\n",
    "\n",
    "# Additional benefits:\n",
    "average_sales = total_sales / len(sales)\n",
    "print(\"Average Sales:\", average_sales)\n",
    "\n",
    "highest_sales = max(sales)\n",
    "print(\"Highest Sales:\", highest_sales)\n"
   ]
  },
  {
   "cell_type": "code",
   "execution_count": 64,
   "id": "bf819a6b-01a3-4009-96ba-ee0496094e65",
   "metadata": {},
   "outputs": [],
   "source": [
    "# Advantages:\n",
    "\n",
    "# Dynamic resizing: Just append more sales data without adding variables.\n",
    "# Built-in functions simplify operations like summing, averaging, or sorting.\n",
    "# Better readability and maintainability. "
   ]
  },
  {
   "cell_type": "code",
   "execution_count": 66,
   "id": "9adffc31-0c14-4919-95e8-bf6819284c42",
   "metadata": {},
   "outputs": [],
   "source": [
    "# Lists in Python are incredibly powerful and versatile. \n",
    "# Here's a breakdown of what else you can do with lists:"
   ]
  },
  {
   "cell_type": "code",
   "execution_count": 68,
   "id": "7dfbe3f0-26e4-419c-98ac-c45f49884d71",
   "metadata": {},
   "outputs": [],
   "source": [
    "# Add and Remove Elements\n",
    "# Appending an element: Add an item at the end."
   ]
  },
  {
   "cell_type": "code",
   "execution_count": 70,
   "id": "6edf6e96-18c0-4fdc-8703-34a63f029b92",
   "metadata": {},
   "outputs": [
    {
     "name": "stdout",
     "output_type": "stream",
     "text": [
      "[1, 2, 3, 4]\n"
     ]
    }
   ],
   "source": [
    "my_list = [1, 2, 3]\n",
    "my_list.append(4)  # [1, 2, 3, 4]\n",
    "print(my_list)"
   ]
  },
  {
   "cell_type": "code",
   "execution_count": 72,
   "id": "cdda508c-bb4e-4e0b-8ed7-61ee12c56ef6",
   "metadata": {},
   "outputs": [],
   "source": [
    "# Inserting at a specific position: Add an item anywhere."
   ]
  },
  {
   "cell_type": "code",
   "execution_count": 74,
   "id": "cfe577a4-4a2e-4b47-8054-312c305138ce",
   "metadata": {},
   "outputs": [
    {
     "name": "stdout",
     "output_type": "stream",
     "text": [
      "[1, 10, 2, 3, 4]\n"
     ]
    }
   ],
   "source": [
    "my_list.insert(1, 10)  # [1, 10, 2, 3, 4]\n",
    "print(my_list)"
   ]
  },
  {
   "cell_type": "code",
   "execution_count": 76,
   "id": "9d7aef21-cb72-4853-92ff-9a3010b7d6ba",
   "metadata": {},
   "outputs": [],
   "source": [
    "# Removing an element: Delete an item by value or index.\n",
    " \n"
   ]
  },
  {
   "cell_type": "code",
   "execution_count": 78,
   "id": "c7da4fde-dfce-40ef-b82e-8e456da2400d",
   "metadata": {},
   "outputs": [
    {
     "name": "stdout",
     "output_type": "stream",
     "text": [
      "[1, 10, 2, 3, 4]\n",
      "[1, 2, 3, 4]\n",
      "[1, 2, 4]\n"
     ]
    }
   ],
   "source": [
    "print(my_list)\n",
    "my_list.remove(10)  # [1, 2, 3, 4]\n",
    "print(my_list)\n",
    "my_list.pop(2)      # Removes the item at index 2, resulting in [1, 2, 4]\n",
    "print(my_list)"
   ]
  },
  {
   "cell_type": "code",
   "execution_count": 80,
   "id": "b8fdafaa-548f-427d-861b-7fd8d30138be",
   "metadata": {},
   "outputs": [],
   "source": [
    "# Slicing and Accessing Elements"
   ]
  },
  {
   "cell_type": "code",
   "execution_count": 82,
   "id": "0a8b3397-6769-4509-bea2-6d38186c39e2",
   "metadata": {},
   "outputs": [
    {
     "name": "stdout",
     "output_type": "stream",
     "text": [
      "[1, 2, 4]\n",
      "1\n",
      "4\n"
     ]
    }
   ],
   "source": [
    "print(my_list)\n",
    "print(my_list[0])  # First element: 1\n",
    "print(my_list[-1]) # Last element: 4\n"
   ]
  },
  {
   "cell_type": "code",
   "execution_count": 84,
   "id": "426387e7-816a-4c1b-8038-c3388f800348",
   "metadata": {},
   "outputs": [],
   "source": [
    "#Slice a portion of the list:"
   ]
  },
  {
   "cell_type": "code",
   "execution_count": 88,
   "id": "373233b3-50c4-4d3f-a435-749e99b584ab",
   "metadata": {},
   "outputs": [
    {
     "name": "stdout",
     "output_type": "stream",
     "text": [
      "[2, 4]\n"
     ]
    }
   ],
   "source": [
    "sub_list = my_list[1:3]  # [2, 4]\n",
    "print(sub_list)"
   ]
  },
  {
   "cell_type": "code",
   "execution_count": 90,
   "id": "33167dd5-a7a6-4d89-8706-db19ca309099",
   "metadata": {},
   "outputs": [],
   "source": [
    "#Iterate Over Lists\n",
    "#Use a loop to process each element.\n",
    " "
   ]
  },
  {
   "cell_type": "code",
   "execution_count": 92,
   "id": "6f609a2e-83fa-4b8d-bcd5-164cdaa6bc67",
   "metadata": {},
   "outputs": [
    {
     "name": "stdout",
     "output_type": "stream",
     "text": [
      "1\n",
      "2\n",
      "4\n"
     ]
    }
   ],
   "source": [
    "for item in my_list:\n",
    "    print(item)\n"
   ]
  },
  {
   "cell_type": "code",
   "execution_count": 94,
   "id": "e679e345-6fe2-4ef0-8e97-bbbc1c236fe5",
   "metadata": {},
   "outputs": [],
   "source": [
    "#Sort and Reverse\n",
    "#Sort the list (ascending or descending):\n",
    " "
   ]
  },
  {
   "cell_type": "code",
   "execution_count": 100,
   "id": "acd009ee-f911-4103-bf83-1ba699ec1376",
   "metadata": {},
   "outputs": [
    {
     "name": "stdout",
     "output_type": "stream",
     "text": [
      "[3, 1, 4, 2]\n",
      "[1, 2, 3, 4]\n",
      "[4, 3, 2, 1]\n"
     ]
    }
   ],
   "source": [
    "numbers = [3, 1, 4, 2]\n",
    "print(numbers)\n",
    "numbers.sort()  # [1, 2, 3, 4]\n",
    "print(numbers)\n",
    "numbers.sort(reverse=True)  # [4, 3, 2, 1]\n",
    "print(numbers)"
   ]
  },
  {
   "cell_type": "code",
   "execution_count": 106,
   "id": "c655fadb-2a40-4c39-ae5c-a70671b73cb6",
   "metadata": {},
   "outputs": [
    {
     "name": "stdout",
     "output_type": "stream",
     "text": [
      "[1, 2, 3, 4]\n",
      "[4, 3, 2, 1]\n"
     ]
    }
   ],
   "source": [
    "print(numbers)\n",
    "numbers.reverse()\n",
    "print(numbers)"
   ]
  },
  {
   "cell_type": "code",
   "execution_count": 108,
   "id": "c8892a2d-07c1-420f-a04a-9fb130d9ac03",
   "metadata": {},
   "outputs": [
    {
     "name": "stdout",
     "output_type": "stream",
     "text": [
      "True\n"
     ]
    }
   ],
   "source": [
    "# #Find Information\n",
    "# Check if an item exists:\n",
    " \n",
    "print(3 in numbers)  # True\n"
   ]
  },
  {
   "cell_type": "code",
   "execution_count": 110,
   "id": "df29fa5a-3170-41e6-afa0-ae456230474c",
   "metadata": {},
   "outputs": [
    {
     "name": "stdout",
     "output_type": "stream",
     "text": [
      "1\n"
     ]
    }
   ],
   "source": [
    "#Count occurrences:\n",
    "print(numbers.count(4))  # 1\n"
   ]
  },
  {
   "cell_type": "code",
   "execution_count": 118,
   "id": "994b62b5-5f68-4255-b4c0-f11f07e1e238",
   "metadata": {},
   "outputs": [
    {
     "name": "stdout",
     "output_type": "stream",
     "text": [
      "3\n"
     ]
    }
   ],
   "source": [
    "# Find the index of an item:\n",
    "\n",
    "print(numbers.index(1))  # 1\n"
   ]
  },
  {
   "cell_type": "code",
   "execution_count": null,
   "id": "89f8037e-f9d6-462f-ba44-94d2201e04f6",
   "metadata": {},
   "outputs": [],
   "source": [
    "# List Comprehensions"
   ]
  },
  {
   "cell_type": "code",
   "execution_count": 120,
   "id": "03de45c7-a742-41a0-8d6a-a284592449b0",
   "metadata": {},
   "outputs": [
    {
     "name": "stdout",
     "output_type": "stream",
     "text": [
      "[0, 1, 4, 9, 16]\n"
     ]
    }
   ],
   "source": [
    "squares = [x**2 for x in range(5)]  # [0, 1, 4, 9, 16]\n",
    "print(squares)"
   ]
  },
  {
   "cell_type": "code",
   "execution_count": 122,
   "id": "bd7ffa5b-e199-4db6-b316-ab6e220dbff6",
   "metadata": {},
   "outputs": [],
   "source": [
    "# Combine and Repeat Lists"
   ]
  },
  {
   "cell_type": "code",
   "execution_count": 128,
   "id": "525da8d5-1a48-4d30-bcd4-ed161ed126b7",
   "metadata": {},
   "outputs": [
    {
     "name": "stdout",
     "output_type": "stream",
     "text": [
      "[1, 2, 3, 4]\n"
     ]
    }
   ],
   "source": [
    "# Concatenate two lists:\n",
    "a = [1, 2]\n",
    "b = [3, 4]\n",
    "c = a + b  # [1, 2, 3, 4]\n",
    "print(c)"
   ]
  },
  {
   "cell_type": "code",
   "execution_count": 132,
   "id": "e600c1f7-b6bc-44f2-8d55-efa2910e0e1f",
   "metadata": {},
   "outputs": [
    {
     "name": "stdout",
     "output_type": "stream",
     "text": [
      "[1, 2, 1, 2, 1, 2]\n"
     ]
    }
   ],
   "source": [
    "#Repeat a list:\n",
    "repeated = a * 3  # [1, 2, 1, 2, 1, 2]\n",
    "print(repeated)"
   ]
  },
  {
   "cell_type": "code",
   "execution_count": null,
   "id": "90e85191-f9d8-4cd4-b1ae-355cced70c30",
   "metadata": {},
   "outputs": [],
   "source": [
    "# Work with Multiple Data Types\n",
    "# Lists can store mixed data types:"
   ]
  },
  {
   "cell_type": "code",
   "execution_count": 134,
   "id": "b178a5eb-2e92-4a1e-a107-fc1a809bccde",
   "metadata": {},
   "outputs": [
    {
     "name": "stdout",
     "output_type": "stream",
     "text": [
      "[42, 'hello', 3.14, True]\n"
     ]
    }
   ],
   "source": [
    "mixed_list = [42, \"hello\", 3.14, True]\n",
    "print(mixed_list)"
   ]
  },
  {
   "cell_type": "code",
   "execution_count": null,
   "id": "a1102f31-56e7-4a61-9380-97bf7098d7a1",
   "metadata": {},
   "outputs": [],
   "source": [
    "# Copy or Clear a List"
   ]
  },
  {
   "cell_type": "code",
   "execution_count": 136,
   "id": "7137e813-e89f-4431-af84-36cc315d7a09",
   "metadata": {},
   "outputs": [
    {
     "name": "stdout",
     "output_type": "stream",
     "text": [
      "[1, 2, 4]\n"
     ]
    }
   ],
   "source": [
    "# Copy a list:\n",
    "copy_list = my_list.copy()\n",
    "print(copy_list)"
   ]
  },
  {
   "cell_type": "code",
   "execution_count": 140,
   "id": "b4d1a2c9-ee32-4de6-8b5a-7e6f6b7714fe",
   "metadata": {},
   "outputs": [
    {
     "name": "stdout",
     "output_type": "stream",
     "text": [
      "[]\n"
     ]
    }
   ],
   "source": [
    "# Clear all elements:\n",
    "my_list.clear()  # []\n",
    "\n",
    "print(my_list)"
   ]
  },
  {
   "cell_type": "code",
   "execution_count": 142,
   "id": "f005a409-02fa-48e5-90f6-ff072a104ac1",
   "metadata": {},
   "outputs": [],
   "source": [
    "#Convert Other Data Types to a List"
   ]
  },
  {
   "cell_type": "code",
   "execution_count": 148,
   "id": "7618c97f-2b62-4d4e-acb0-d87e4e11dfa8",
   "metadata": {},
   "outputs": [
    {
     "name": "stdout",
     "output_type": "stream",
     "text": [
      "['h', 'e', 'l', 'l', 'o']\n",
      "[1, 2, 3]\n",
      "[0, 1, 2, 3, 4]\n"
     ]
    }
   ],
   "source": [
    "#Convert strings, tuples, or ranges to a list:\n",
    "list_from_string = list(\"hello\")  # ['h', 'e', 'l', 'l', 'o']\n",
    "list_from_tuple = list((1, 2, 3))  # [1, 2, 3]\n",
    "list_from_range = list(range(5))   # [0, 1, 2, 3, 4]\n",
    "print(list_from_string)\n",
    "print(list_from_tuple)\n",
    "print(list_from_range)"
   ]
  },
  {
   "cell_type": "code",
   "execution_count": 150,
   "id": "052c4dea-f5d5-4f80-982f-3c7edc6919be",
   "metadata": {},
   "outputs": [],
   "source": [
    "# Advanced Uses:\n",
    "# Nested Lists: Store lists within a list."
   ]
  },
  {
   "cell_type": "code",
   "execution_count": 152,
   "id": "1ccbe238-908b-4f53-91a7-a60b253ae5bf",
   "metadata": {},
   "outputs": [
    {
     "name": "stdout",
     "output_type": "stream",
     "text": [
      "3\n"
     ]
    }
   ],
   "source": [
    "nested = [[1, 2], [3, 4], [5, 6]]\n",
    "print(nested[1][0])  # Access 3\n"
   ]
  },
  {
   "cell_type": "code",
   "execution_count": 154,
   "id": "10e50a21-ea3a-424e-a360-382332da1315",
   "metadata": {},
   "outputs": [
    {
     "name": "stdout",
     "output_type": "stream",
     "text": [
      "4\n",
      "2\n"
     ]
    }
   ],
   "source": [
    "# Filter Data:\n",
    "evens = [x for x in numbers if x % 2 == 0]  # Only even numbers\n",
    "for even in evens:\n",
    "    print(even)\n",
    " \n"
   ]
  },
  {
   "cell_type": "code",
   "execution_count": 156,
   "id": "4fbd96b7-e753-4a75-ac76-f2ec6a09ac6b",
   "metadata": {},
   "outputs": [
    {
     "name": "stdout",
     "output_type": "stream",
     "text": [
      "24\n"
     ]
    }
   ],
   "source": [
    "# Reduce or Aggregate: Use external libraries like functools:\n",
    "from functools import reduce\n",
    "product = reduce(lambda x, y: x * y, [1, 2, 3, 4])  # 24\n",
    "print(product)\n"
   ]
  },
  {
   "cell_type": "code",
   "execution_count": null,
   "id": "9e1986ea-48b1-40f7-96d5-5aa164680281",
   "metadata": {},
   "outputs": [],
   "source": []
  }
 ],
 "metadata": {
  "kernelspec": {
   "display_name": "Python 3 (ipykernel)",
   "language": "python",
   "name": "python3"
  },
  "language_info": {
   "codemirror_mode": {
    "name": "ipython",
    "version": 3
   },
   "file_extension": ".py",
   "mimetype": "text/x-python",
   "name": "python",
   "nbconvert_exporter": "python",
   "pygments_lexer": "ipython3",
   "version": "3.12.7"
  }
 },
 "nbformat": 4,
 "nbformat_minor": 5
}
