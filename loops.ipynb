{
 "cells": [
  {
   "cell_type": "code",
   "execution_count": 3,
   "id": "2a5bbbad-96f6-4a95-a8df-457c34ff5e85",
   "metadata": {},
   "outputs": [],
   "source": [
    "# In programming, a loop means repeating something multiple times. There are different kinds of loops:\n",
    "\n",
    "# While loops repeat something while a condition is true.\n",
    "# Until loops repeat something while a condition is false.\n",
    "# For loops repeat something for each element of something."
   ]
  },
  {
   "cell_type": "code",
   "execution_count": null,
   "id": "389446ff-c491-4499-a1b7-fa7eb86e869a",
   "metadata": {},
   "outputs": [],
   "source": [
    "# While loops repeat something while a condition is true.\n",
    "# Syntax of a while loop:\n",
    "while condition:\n",
    "    # Code block to execut"
   ]
  },
  {
   "cell_type": "code",
   "execution_count": 7,
   "id": "e88e1e00-36d5-48d5-88e8-a88a49c906cf",
   "metadata": {},
   "outputs": [
    {
     "name": "stdout",
     "output_type": "stream",
     "text": [
      "Count is:1\n",
      "Count is:2\n",
      "Count is:3\n",
      "Count is:4\n",
      "Count is:5\n"
     ]
    }
   ],
   "source": [
    "count=1\n",
    "while count<=5:\n",
    "    print(f\"Count is:{count}\")\n",
    "    count+=1"
   ]
  },
  {
   "cell_type": "code",
   "execution_count": 11,
   "id": "9c21a09e-6dbb-4e22-aea5-83c5a8d0f512",
   "metadata": {},
   "outputs": [],
   "source": [
    "# Key Features:\n",
    "# Condition Checking: The loop runs only if the condition evaluates to True.\n",
    "# Iteration Logic: You must ensure the loop will eventually stop by modifying\n",
    "# variables or adding a break statement to prevent infinite loops."
   ]
  },
  {
   "cell_type": "code",
   "execution_count": 13,
   "id": "1b3dcd9b-f9e4-4a9e-8892-1d29eb7630b6",
   "metadata": {},
   "outputs": [],
   "source": [
    "# Common Operations in Python using while Loops\n",
    "# 1. Summing Numbers"
   ]
  },
  {
   "cell_type": "code",
   "execution_count": 15,
   "id": "bd61b55d-c3f0-42a0-b2c1-d62d931836d6",
   "metadata": {},
   "outputs": [
    {
     "name": "stdout",
     "output_type": "stream",
     "text": [
      "Sum: 55\n"
     ]
    }
   ],
   "source": [
    "n=1\n",
    "total=0\n",
    "while n<=10:\n",
    "    total+=n\n",
    "    n+=1\n",
    "print(\"Sum:\",total)"
   ]
  },
  {
   "cell_type": "code",
   "execution_count": null,
   "id": "f9a7b2ce-b705-4f48-aef8-858e283df1a2",
   "metadata": {},
   "outputs": [],
   "source": [
    "# 2. Break a Loop"
   ]
  },
  {
   "cell_type": "code",
   "execution_count": 17,
   "id": "474f0f7c-3c57-471a-939b-2b1d22c0bb30",
   "metadata": {},
   "outputs": [
    {
     "name": "stdout",
     "output_type": "stream",
     "text": [
      "0\n",
      "1\n",
      "2\n",
      "3\n",
      "4\n",
      "5\n",
      "Breaking the loop\n"
     ]
    }
   ],
   "source": [
    "i = 0\n",
    "while i < 10:\n",
    "    print(i)\n",
    "    if i == 5:\n",
    "        print(\"Breaking the loop\")\n",
    "        break\n",
    "    i += 1\n"
   ]
  },
  {
   "cell_type": "code",
   "execution_count": null,
   "id": "dd03ebe6-485c-4e11-ac84-70ec2028d451",
   "metadata": {},
   "outputs": [],
   "source": [
    "# 3. Skip with continue\n",
    " \n"
   ]
  },
  {
   "cell_type": "code",
   "execution_count": 19,
   "id": "30e14dad-8b43-4edb-b255-65c267a6a8ac",
   "metadata": {},
   "outputs": [
    {
     "name": "stdout",
     "output_type": "stream",
     "text": [
      "1\n",
      "3\n",
      "5\n",
      "7\n",
      "9\n"
     ]
    }
   ],
   "source": [
    "i = 0\n",
    "while i < 10:\n",
    "    i += 1\n",
    "    if i % 2 == 0:\n",
    "        continue\n",
    "    print(i)\n"
   ]
  },
  {
   "cell_type": "code",
   "execution_count": null,
   "id": "eb9cc4d2-5140-4c24-a5c6-c300711e951c",
   "metadata": {},
   "outputs": [],
   "source": [
    "# 4. Nested while Loops\n",
    " "
   ]
  },
  {
   "cell_type": "code",
   "execution_count": 21,
   "id": "741aba7b-2b5d-4335-9b0c-345da52fd918",
   "metadata": {},
   "outputs": [
    {
     "name": "stdout",
     "output_type": "stream",
     "text": [
      "x = 1, y = 1\n",
      "x = 1, y = 2\n",
      "x = 1, y = 3\n",
      "x = 2, y = 1\n",
      "x = 2, y = 2\n",
      "x = 2, y = 3\n",
      "x = 3, y = 1\n",
      "x = 3, y = 2\n",
      "x = 3, y = 3\n"
     ]
    }
   ],
   "source": [
    "x = 1\n",
    "while x <= 3:\n",
    "    y = 1\n",
    "    while y <= 3:\n",
    "        print(f\"x = {x}, y = {y}\")\n",
    "        y += 1\n",
    "    x += 1\n"
   ]
  },
  {
   "cell_type": "code",
   "execution_count": null,
   "id": "745f3737-b826-47f2-925e-2d3db54b12b0",
   "metadata": {},
   "outputs": [],
   "source": [
    "# 5. Infinite Loops\n",
    "# Use these cautiously, typically for event-driven programs or waiting for user input."
   ]
  },
  {
   "cell_type": "code",
   "execution_count": 23,
   "id": "08c226dd-a8d2-4702-b812-2fc9425f8046",
   "metadata": {},
   "outputs": [
    {
     "name": "stdin",
     "output_type": "stream",
     "text": [
      "Type 'quit' to exit:  quit\n"
     ]
    },
    {
     "name": "stdout",
     "output_type": "stream",
     "text": [
      "Exiting the loop\n"
     ]
    }
   ],
   "source": [
    "while True:\n",
    "    response = input(\"Type 'quit' to exit: \")\n",
    "    if response.lower() == \"quit\":\n",
    "        print(\"Exiting the loop\")\n",
    "        break\n"
   ]
  },
  {
   "cell_type": "code",
   "execution_count": 25,
   "id": "a6472bbb-6fcf-422f-88d4-635bc8314d25",
   "metadata": {},
   "outputs": [],
   "source": [
    "# Operations in Python You Can Use Inside Loops"
   ]
  },
  {
   "cell_type": "code",
   "execution_count": 27,
   "id": "df4a4b08-f1b1-48cc-b50a-82a866c57c67",
   "metadata": {},
   "outputs": [],
   "source": [
    "#Arithmetic Operations: Add, subtract, multiply, divide, modulus, etc.\n"
   ]
  },
  {
   "cell_type": "code",
   "execution_count": 29,
   "id": "2b9d3d1f-2e17-4006-9d7e-58fd0493ecc9",
   "metadata": {},
   "outputs": [
    {
     "name": "stdout",
     "output_type": "stream",
     "text": [
      "1\n",
      "4\n",
      "9\n",
      "16\n",
      "25\n"
     ]
    }
   ],
   "source": [
    "num = 1\n",
    "while num <= 5:\n",
    "    print(num * num)\n",
    "    num += 1\n"
   ]
  },
  {
   "cell_type": "code",
   "execution_count": null,
   "id": "9a84f817-49c6-47e5-97ae-8b34f81de780",
   "metadata": {},
   "outputs": [],
   "source": [
    "# String Manipulation:\n",
    "\n",
    " \n"
   ]
  },
  {
   "cell_type": "code",
   "execution_count": 31,
   "id": "83ba07fb-f100-4037-9405-108639feaf37",
   "metadata": {},
   "outputs": [
    {
     "name": "stdout",
     "output_type": "stream",
     "text": [
      "P\n",
      "y\n",
      "t\n",
      "h\n",
      "o\n",
      "n\n"
     ]
    }
   ],
   "source": [
    "word = \"Python\"\n",
    "index = 0\n",
    "while index < len(word):\n",
    "    print(word[index])\n",
    "    index += 1\n"
   ]
  },
  {
   "cell_type": "code",
   "execution_count": 33,
   "id": "f6623d5e-0c46-4919-9e8a-d9518d7ac00e",
   "metadata": {},
   "outputs": [
    {
     "name": "stdout",
     "output_type": "stream",
     "text": [
      "1\n",
      "2\n",
      "3\n",
      "4\n"
     ]
    }
   ],
   "source": [
    "# Lists and Tuples:\n",
    "\n",
    "my_list = [1, 2, 3, 4]\n",
    "index = 0\n",
    "while index < len(my_list):\n",
    "    print(my_list[index])\n",
    "    index += 1\n",
    "\n"
   ]
  },
  {
   "cell_type": "code",
   "execution_count": 37,
   "id": "e4f9db50-a710-41ac-a28d-b6b42b0cf4fc",
   "metadata": {},
   "outputs": [],
   "source": [
    "# Tips to Use while Loops Effectively\n",
    "# Avoid Infinite Loops: Ensure the condition eventually becomes False.\n",
    "# Debugging: Add print statements to trace the loop's progress if necessary.\n",
    "# Use with Flags: Control complex conditions.\n",
    " "
   ]
  },
  {
   "cell_type": "code",
   "execution_count": null,
   "id": "1ecf01ca-3bad-4286-8904-11ce117b91c0",
   "metadata": {},
   "outputs": [],
   "source": [
    "# Python doesn't have until loops. If we need an until loop, we can use while not:\n",
    "\n"
   ]
  },
  {
   "cell_type": "code",
   "execution_count": 35,
   "id": "f0da3087-e485-441d-b7db-ae0f98ba93da",
   "metadata": {},
   "outputs": [
    {
     "name": "stdin",
     "output_type": "stream",
     "text": [
      "Enter a value greater than 10:  11\n"
     ]
    },
    {
     "name": "stdout",
     "output_type": "stream",
     "text": [
      "Thank you!\n"
     ]
    }
   ],
   "source": [
    "found = False\n",
    "while not found:\n",
    "    value = input(\"Enter a value greater than 10: \")\n",
    "    if int(value) > 10:\n",
    "        found = True\n",
    "        print(\"Thank you!\")\n"
   ]
  }
 ],
 "metadata": {
  "kernelspec": {
   "display_name": "Python 3 (ipykernel)",
   "language": "python",
   "name": "python3"
  },
  "language_info": {
   "codemirror_mode": {
    "name": "ipython",
    "version": 3
   },
   "file_extension": ".py",
   "mimetype": "text/x-python",
   "name": "python",
   "nbconvert_exporter": "python",
   "pygments_lexer": "ipython3",
   "version": "3.12.7"
  }
 },
 "nbformat": 4,
 "nbformat_minor": 5
}
